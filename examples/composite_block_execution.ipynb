{
 "cells": [
  {
   "cell_type": "markdown",
   "metadata": {},
   "source": [
    "# Composite Block Execution Tutorial\n",
    "\n",
    "This notebook demonstrates how to execute composite blocks (systems of interconnected elementary blocks) using the Python CDL runtime.\n",
    "\n",
    "## What You'll Learn\n",
    "\n",
    "1. **Loading Composite Blocks** - Import from CDL-JSON files\n",
    "2. **Understanding Block Structure** - Inspect child blocks and connections\n",
    "3. **Executing Composite Blocks** - Run with BlockExecutor\n",
    "4. **Connection Flow** - See how data flows through connections\n",
    "5. **Time-Series Simulation** - Execute over time with varying inputs\n",
    "\n",
    "## Example: P-Controller with Output Limiter\n",
    "\n",
    "We'll use a composite block that combines:\n",
    "- **Gain block** - Multiplies error by proportional gain (k)\n",
    "- **Min block** - Limits output to maximum value\n",
    "\n",
    "This demonstrates a practical control pattern: P-controller with saturation limits."
   ]
  },
  {
   "cell_type": "markdown",
   "metadata": {},
   "source": [
    "---\n",
    "\n",
    "## Setup: Import Libraries"
   ]
  },
  {
   "cell_type": "code",
   "execution_count": null,
   "metadata": {},
   "outputs": [],
   "source": [
    "# Standard library\n",
    "import json\n",
    "import sys\n",
    "from pathlib import Path\n",
    "\n",
    "# Add project to path\n",
    "project_root = Path.cwd().parent if Path.cwd().name == 'examples' else Path.cwd()\n",
    "if str(project_root) not in sys.path:\n",
    "    sys.path.insert(0, str(project_root))\n",
    "\n",
    "# Import Python CDL\n",
    "from python_cdl.parser.json_parser import CDLParser\n",
    "from python_cdl.runtime.executor import BlockExecutor\n",
    "from python_cdl.runtime.context import ExecutionContext\n",
    "\n",
    "print(\"✓ All imports successful!\")\n",
    "print(f\"✓ Python CDL loaded from: {project_root}\")"
   ]
  },
  {
   "cell_type": "markdown",
   "metadata": {},
   "source": [
    "---\n",
    "\n",
    "## Part 1: Load Composite Block\n",
    "\n",
    "Let's load the P-controller with limiter from the examples directory."
   ]
  },
  {
   "cell_type": "code",
   "execution_count": null,
   "metadata": {},
   "outputs": [],
   "source": [
    "# Load the composite block\n",
    "parser = CDLParser()\n",
    "\n",
    "with open(project_root / 'examples' / 'p_controller_limiter.json') as f:\n",
    "    block_data = json.load(f)\n",
    "\n",
    "controller = parser.parse_block(block_data)\n",
    "\n",
    "print(f\"Loaded composite block: {controller.name}\")\n",
    "print(f\"  Type: {controller.block_type}\")\n",
    "print(f\"  Description: {controller.description}\")"
   ]
  },
  {
   "cell_type": "markdown",
   "metadata": {},
   "source": [
    "---\n",
    "\n",
    "## Part 2: Inspect Block Structure\n",
    "\n",
    "Composite blocks contain child blocks and connections. Let's examine the structure."
   ]
  },
  {
   "cell_type": "code",
   "execution_count": null,
   "metadata": {},
   "outputs": [],
   "source": [
    "# Examine inputs and outputs\n",
    "print(\"External Interface:\")\n",
    "print(\"\\nInputs:\")\n",
    "for inp in controller.inputs:\n",
    "    print(f\"  • {inp.name}: {inp.type} ({inp.unit}) - {inp.description}\")\n",
    "\n",
    "print(\"\\nOutputs:\")\n",
    "for out in controller.outputs:\n",
    "    print(f\"  • {out.name}: {out.type} ({out.unit}) - {out.description}\")\n",
    "\n",
    "# Examine internal blocks\n",
    "print(f\"\\nInternal Blocks ({len(controller.blocks)}):\")\n",
    "for block in controller.blocks:\n",
    "    print(f\"\\n  {block.name} ({block.block_type}):\")\n",
    "    print(f\"    Inputs: {[inp.name for inp in block.inputs]}\")\n",
    "    print(f\"    Outputs: {[out.name for out in block.outputs]}\")\n",
    "    if hasattr(block, 'parameters'):\n",
    "        print(f\"    Parameters: {[(p.name, p.value) for p in block.parameters]}\")"
   ]
  },
  {
   "cell_type": "markdown",
   "metadata": {},
   "source": [
    "### Key Observations\n",
    "\n",
    "The composite block has:\n",
    "- **2 inputs**: `e` (error) and `yMax` (maximum output limit)\n",
    "- **1 output**: `y` (limited control output)\n",
    "- **2 child blocks**: `gain` and `minValue`\n",
    "\n",
    "The `gain` block multiplies the error by k=5.0, and the `minValue` block ensures the output doesn't exceed yMax."
   ]
  },
  {
   "cell_type": "code",
   "execution_count": null,
   "metadata": {},
   "outputs": [],
   "source": [
    "# Examine connections\n",
    "print(f\"Connections ({len(controller.connections)}):\")\n",
    "print(\"\\nData Flow:\")\n",
    "for i, conn in enumerate(controller.connections, 1):\n",
    "    from_name = f\"{conn.from_block}.{conn.from_output}\" if conn.from_output else conn.from_block\n",
    "    to_name = f\"{conn.to_block}.{conn.to_input}\" if conn.to_input else conn.to_block\n",
    "    print(f\"  {i}. {from_name:20s} → {to_name:20s}\")\n",
    "    if conn.description:\n",
    "        print(f\"     {conn.description}\")"
   ]
  },
  {
   "cell_type": "markdown",
   "metadata": {},
   "source": [
    "### Connection Patterns\n",
    "\n",
    "Notice three types of connections:\n",
    "\n",
    "1. **Parent Input → Child Input**: `e` → `gain.u`, `yMax` → `minValue.u1`\n",
    "2. **Child Output → Child Input**: `gain.y` → `minValue.u2`\n",
    "3. **Child Output → Parent Output**: `minValue.y` → `y`\n",
    "\n",
    "The execution order is automatically determined by these dependencies!"
   ]
  },
  {
   "cell_type": "markdown",
   "metadata": {},
   "source": [
    "---\n",
    "\n",
    "## Part 3: Single Execution\n",
    "\n",
    "Let's execute the composite block with a single set of inputs."
   ]
  },
  {
   "cell_type": "code",
   "execution_count": null,
   "metadata": {},
   "outputs": [],
   "source": [
    "# Create executor\n",
    "context = ExecutionContext()\n",
    "executor = BlockExecutor(context)\n",
    "\n",
    "# Execute with sample inputs\n",
    "inputs = {\n",
    "    'e': 5.0,      # Error = 5.0\n",
    "    'yMax': 20.0   # Maximum output = 20.0\n",
    "}\n",
    "\n",
    "result = executor.execute(controller, inputs=inputs)\n",
    "\n",
    "print(\"Execution Result:\")\n",
    "print(f\"  Success: {result.success}\")\n",
    "if result.success:\n",
    "    print(f\"  Output y: {result.outputs.get('y')}\")\n",
    "    print(f\"  Blocks executed: {result.blocks_executed}\")\n",
    "    print(f\"  Execution time: {result.execution_time*1000:.2f} ms\")\n",
    "else:\n",
    "    print(f\"  Error: {result.error}\")\n",
    "\n",
    "print(\"\\nCalculation Breakdown:\")\n",
    "print(f\"  1. gain.y = k × e = 5.0 × {inputs['e']} = {5.0 * inputs['e']}\")\n",
    "print(f\"  2. minValue.y = min(yMax, gain.y) = min({inputs['yMax']}, {5.0 * inputs['e']}) = {result.outputs.get('y')}\")"
   ]
  },
  {
   "cell_type": "markdown",
   "metadata": {},
   "source": [
    "### What Happened?\n",
    "\n",
    "The executor:\n",
    "1. **Analyzed dependencies** - Determined `gain` must execute before `minValue`\n",
    "2. **Executed gain block** - Calculated `gain.y = 5.0 × 5.0 = 25.0`\n",
    "3. **Executed minValue block** - Calculated `min(20.0, 25.0) = 20.0`\n",
    "4. **Mapped to output** - Set parent output `y = 20.0`\n",
    "\n",
    "The output was **limited to 20.0** even though the raw gain output was 25.0!"
   ]
  },
  {
   "cell_type": "markdown",
   "metadata": {},
   "source": [
    "---\n",
    "\n",
    "## Part 4: Test Different Scenarios\n",
    "\n",
    "Let's test various input combinations to see how the limiter works."
   ]
  },
  {
   "cell_type": "code",
   "execution_count": null,
   "metadata": {},
   "outputs": [],
   "source": [
    "import pandas as pd\n",
    "\n",
    "# Test scenarios\n",
    "test_cases = [\n",
    "    {'e': 0.0, 'yMax': 100.0, 'description': 'Zero error'},\n",
    "    {'e': 2.0, 'yMax': 100.0, 'description': 'Small error, no limiting'},\n",
    "    {'e': 5.0, 'yMax': 20.0, 'description': 'Limited by yMax'},\n",
    "    {'e': 10.0, 'yMax': 30.0, 'description': 'Heavily limited'},\n",
    "    {'e': -3.0, 'yMax': 100.0, 'description': 'Negative error'},\n",
    "]\n",
    "\n",
    "results = []\n",
    "for test in test_cases:\n",
    "    result = executor.execute(controller, inputs={'e': test['e'], 'yMax': test['yMax']})\n",
    "    \n",
    "    gain_output = 5.0 * test['e']\n",
    "    actual_output = result.outputs.get('y', float('nan'))\n",
    "    is_limited = abs(gain_output) > test['yMax']\n",
    "    \n",
    "    results.append({\n",
    "        'Description': test['description'],\n",
    "        'Error (e)': test['e'],\n",
    "        'Max (yMax)': test['yMax'],\n",
    "        'Gain Output': gain_output,\n",
    "        'Final Output (y)': actual_output,\n",
    "        'Limited?': '✓' if is_limited else '✗'\n",
    "    })\n",
    "\n",
    "df = pd.DataFrame(results)\n",
    "print(\"\\nTest Results:\")\n",
    "print(df.to_string(index=False))"
   ]
  },
  {
   "cell_type": "markdown",
   "metadata": {},
   "source": [
    "### Observations\n",
    "\n",
    "- When `gain.y < yMax`: Output passes through unchanged\n",
    "- When `gain.y > yMax`: Output is limited to `yMax`\n",
    "- Negative errors work correctly (no artificial limiting at zero)"
   ]
  },
  {
   "cell_type": "markdown",
   "metadata": {},
   "source": [
    "---\n",
    "\n",
    "## Part 5: Time-Series Simulation\n",
    "\n",
    "Now let's simulate the controller over time with varying inputs."
   ]
  },
  {
   "cell_type": "code",
   "execution_count": null,
   "metadata": {},
   "outputs": [],
   "source": [
    "import numpy as np\n",
    "import matplotlib.pyplot as plt\n",
    "\n",
    "# Simulation parameters\n",
    "time = np.linspace(0, 10, 101)  # 0 to 10 seconds, 0.1s steps\n",
    "\n",
    "# Scenario: Error ramps up, then down\n",
    "error = np.concatenate([\n",
    "    np.linspace(0, 8, 51),   # Ramp up from 0 to 8 (0-5s)\n",
    "    np.linspace(8, 2, 50)    # Ramp down from 8 to 2 (5-10s)\n",
    "])\n",
    "\n",
    "# Constant limit\n",
    "yMax = 30.0\n",
    "\n",
    "# Execute at each time step\n",
    "outputs = []\n",
    "gain_outputs = []\n",
    "\n",
    "for t, e in zip(time, error):\n",
    "    result = executor.execute(controller, inputs={'e': e, 'yMax': yMax})\n",
    "    outputs.append(result.outputs.get('y', float('nan')))\n",
    "    gain_outputs.append(5.0 * e)\n",
    "\n",
    "outputs = np.array(outputs)\n",
    "gain_outputs = np.array(gain_outputs)\n",
    "\n",
    "print(f\"Simulated {len(time)} time steps\")\n",
    "print(f\"  Time range: {time[0]:.1f} to {time[-1]:.1f} seconds\")\n",
    "print(f\"  Error range: {error.min():.1f} to {error.max():.1f}\")\n",
    "print(f\"  Output limited: {np.sum(outputs < gain_outputs)} / {len(time)} steps\")"
   ]
  },
  {
   "cell_type": "code",
   "execution_count": null,
   "metadata": {},
   "outputs": [],
   "source": [
    "# Plot results\n",
    "fig, (ax1, ax2) = plt.subplots(2, 1, figsize=(12, 8), sharex=True)\n",
    "\n",
    "# Top plot: Error input\n",
    "ax1.plot(time, error, 'b-', linewidth=2, label='Error (e)')\n",
    "ax1.grid(True, alpha=0.3)\n",
    "ax1.set_ylabel('Error', fontsize=12)\n",
    "ax1.set_title('Composite Block Execution: P-Controller with Limiter', fontsize=14, fontweight='bold')\n",
    "ax1.legend(loc='upper right')\n",
    "\n",
    "# Bottom plot: Outputs\n",
    "ax2.plot(time, gain_outputs, 'g--', linewidth=2, alpha=0.7, label='Gain output (k×e = 5.0×e)')\n",
    "ax2.plot(time, outputs, 'r-', linewidth=2.5, label='Final output (y)')\n",
    "ax2.axhline(y=yMax, color='orange', linestyle=':', linewidth=2, label=f'Limit (yMax = {yMax})')\n",
    "\n",
    "# Highlight limited region\n",
    "limited_mask = outputs < gain_outputs\n",
    "if np.any(limited_mask):\n",
    "    ax2.fill_between(time, 0, yMax, where=limited_mask, alpha=0.2, color='orange', label='Limited region')\n",
    "\n",
    "ax2.grid(True, alpha=0.3)\n",
    "ax2.set_xlabel('Time (seconds)', fontsize=12)\n",
    "ax2.set_ylabel('Output', fontsize=12)\n",
    "ax2.legend(loc='upper right')\n",
    "ax2.set_ylim(bottom=-5)\n",
    "\n",
    "plt.tight_layout()\n",
    "plt.show()\n",
    "\n",
    "print(\"\\n📊 Plot shows:\")\n",
    "print(\"  • Green dashed line: Unlimited gain output (5.0 × error)\")\n",
    "print(\"  • Red solid line: Actual output (limited by minValue block)\")\n",
    "print(\"  • Orange shaded area: Time periods where limiting is active\")"
   ]
  },
  {
   "cell_type": "markdown",
   "metadata": {},
   "source": [
    "### Analysis\n",
    "\n",
    "The plot clearly shows:\n",
    "\n",
    "1. **No limiting (t < ~6s)**: When error is small, gain output < yMax, so output = gain output\n",
    "2. **Limiting active (t ≈ 6-9s)**: When error is large, gain output > yMax, so output is clamped to yMax\n",
    "3. **Smooth transitions**: The limiter engages/disengages smoothly as error changes\n",
    "\n",
    "This is exactly how a saturation limiter should behave in a control system!"
   ]
  },
  {
   "cell_type": "markdown",
   "metadata": {},
   "source": [
    "---\n",
    "\n",
    "## Part 6: Performance Analysis\n",
    "\n",
    "Let's measure execution performance for composite blocks."
   ]
  },
  {
   "cell_type": "code",
   "execution_count": null,
   "metadata": {},
   "outputs": [],
   "source": [
    "import time as time_module\n",
    "\n",
    "# Benchmark: Execute 1000 times\n",
    "n_iterations = 1000\n",
    "test_input = {'e': 5.0, 'yMax': 20.0}\n",
    "\n",
    "start = time_module.perf_counter()\n",
    "for _ in range(n_iterations):\n",
    "    result = executor.execute(controller, inputs=test_input)\n",
    "end = time_module.perf_counter()\n",
    "\n",
    "total_time = (end - start) * 1000  # Convert to ms\n",
    "avg_time = total_time / n_iterations\n",
    "executions_per_sec = n_iterations / (end - start)\n",
    "\n",
    "print(f\"Performance Benchmark ({n_iterations} executions):\")\n",
    "print(f\"  Total time: {total_time:.2f} ms\")\n",
    "print(f\"  Average time per execution: {avg_time:.4f} ms\")\n",
    "print(f\"  Executions per second: {executions_per_sec:,.0f}\")\n",
    "print(f\"\\n  Fast enough for:\")\n",
    "print(f\"    • 1 Hz control loop: {avg_time < 1000} ✓\" if avg_time < 1000 else \"    • 1 Hz control loop: ✗\")\n",
    "print(f\"    • 10 Hz control loop: {avg_time < 100} ✓\" if avg_time < 100 else \"    • 10 Hz control loop: ✗\")\n",
    "print(f\"    • 100 Hz control loop: {avg_time < 10} ✓\" if avg_time < 10 else \"    • 100 Hz control loop: ✗\")"
   ]
  },
  {
   "cell_type": "markdown",
   "metadata": {},
   "source": [
    "### Performance Notes\n",
    "\n",
    "Python CDL composite blocks are fast enough for:\n",
    "- Building automation (1-10 Hz typical)\n",
    "- HVAC control (0.1-1 Hz typical)\n",
    "- Offline simulation and analysis\n",
    "\n",
    "For higher-frequency control, consider:\n",
    "- Compiling to native code\n",
    "- Using simpler block structures\n",
    "- Optimizing hot paths"
   ]
  },
  {
   "cell_type": "markdown",
   "metadata": {},
   "source": [
    "---\n",
    "\n",
    "## Summary\n",
    "\n",
    "### What We Learned\n",
    "\n",
    "✅ **Loading composite blocks** - Parse from CDL-JSON  \n",
    "✅ **Inspecting structure** - Examine child blocks and connections  \n",
    "✅ **Executing blocks** - Use BlockExecutor with inputs  \n",
    "✅ **Understanding data flow** - See how connections route data  \n",
    "✅ **Time-series simulation** - Execute over time with varying inputs  \n",
    "✅ **Performance analysis** - Measure execution speed  \n",
    "\n",
    "### Key Takeaways\n",
    "\n",
    "1. **Automatic execution order** - Topological sort handles dependencies\n",
    "2. **Three connection types** - Parent→Child, Child→Child, Child→Parent\n",
    "3. **Transparent execution** - Same API for elementary and composite blocks\n",
    "4. **Production-ready performance** - Fast enough for building automation\n",
    "\n",
    "### How It Works Under the Hood\n",
    "\n",
    "When you call `executor.execute(composite_block, inputs)`:\n",
    "\n",
    "1. **Dependency analysis** - Build graph from connections\n",
    "2. **Topological sort** - Determine safe execution order\n",
    "3. **Sequential execution** - Execute children in dependency order:\n",
    "   - Collect inputs from connections\n",
    "   - Execute child block equations\n",
    "   - Store outputs in context\n",
    "4. **Output mapping** - Map child outputs to parent outputs\n",
    "\n",
    "All of this happens automatically - you just provide inputs and get outputs!\n",
    "\n",
    "### Next Steps\n",
    "\n",
    "- Create your own composite blocks\n",
    "- Build multi-level hierarchies (composites containing composites)\n",
    "- Integrate with real building systems\n",
    "- Use the verification framework to validate control logic\n",
    "\n",
    "---\n",
    "\n",
    "*Tutorial created with Python CDL - Composite block execution fully implemented!*"
   ]
  }
 ],
 "metadata": {
  "kernelspec": {
   "display_name": "Python 3",
   "language": "python",
   "name": "python3"
  },
  "language_info": {
   "codemirror_mode": {
    "name": "ipython",
    "version": 3
   },
   "file_extension": ".py",
   "mimetype": "text/x-python",
   "name": "python",
   "nbconvert_exporter": "python",
   "pygments_lexer": "ipython3",
   "version": "3.11.0"
  }
 },
 "nbformat": 4,
 "nbformat_minor": 4
}
